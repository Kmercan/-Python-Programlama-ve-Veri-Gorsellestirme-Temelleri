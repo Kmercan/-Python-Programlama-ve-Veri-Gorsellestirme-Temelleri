{
 "cells": [
  {
   "cell_type": "markdown",
   "id": "2a8e255a",
   "metadata": {},
   "source": [
    "## Pandas ile tablo görüntüsü, missing data analizi, histogram oluşturma"
   ]
  },
  {
   "cell_type": "markdown",
   "id": "61948a3d",
   "metadata": {},
   "source": [
    "## 1. Pandas ile Tablo Görüntüleme\n",
    "\n",
    "Bu bölümde, pandas kütüphanesi kullanılarak veri tablosu oluşturulmuş ve temel fonksiyonlarla görüntülenmiştir.  \n",
    "Veri örneği olarak öğrenci notlarını içeren basit bir tablo kullanılmıştır."
   ]
  },
  {
   "cell_type": "code",
   "execution_count": 5,
   "id": "d8e4d5c7",
   "metadata": {},
   "outputs": [],
   "source": [
    "import pandas as pd\n"
   ]
  },
  {
   "cell_type": "code",
   "execution_count": 7,
   "id": "c909bbf0",
   "metadata": {},
   "outputs": [],
   "source": [
    "\n",
    "veri = {\n",
    "    \"İsim\": [\"Ahmet\", \"Zeynep\", \"Mehmet\", \"Elif\", \"Ali\"],\n",
    "    \"Yaş\": [22, 23, 21, 22, 24],\n",
    "    \"Not\": [85, 90, 75, 95, 88]\n",
    "}\n",
    "\n",
    "df = pd.DataFrame(veri)\n"
   ]
  },
  {
   "cell_type": "markdown",
   "id": "d88b87d1",
   "metadata": {},
   "source": [
    "veri isimli bir sözlük (dictionary) tanımlanır.\n",
    "\n",
    "Her sütun (İsim, Yaş, Not) bir liste içerir.\n",
    "\n",
    "Bu yapı, bir tablonun satır ve sütunlarını temsil eder.\n",
    "\n",
    "Yukarıdaki sözlükten bir pandas DataFrame (veri tablosu) oluşturulur.\n",
    "\n",
    "Artık bu tablo üzerinden çeşitli işlemler yapılabilir."
   ]
  },
  {
   "cell_type": "code",
   "execution_count": 8,
   "id": "7e13913e",
   "metadata": {},
   "outputs": [
    {
     "name": "stdout",
     "output_type": "stream",
     "text": [
      " İlk 5 Satır:\n",
      "     İsim  Yaş  Not\n",
      "0   Ahmet   22   85\n",
      "1  Zeynep   23   90\n",
      "2  Mehmet   21   75\n",
      "3    Elif   22   95\n",
      "4     Ali   24   88\n"
     ]
    }
   ],
   "source": [
    "print(\" İlk 5 Satır:\")\n",
    "print(df.head())"
   ]
  },
  {
   "cell_type": "markdown",
   "id": "fc54b78c",
   "metadata": {},
   "source": [
    ".head() fonksiyonu tablonun ilk 5 satırını getirir.\n",
    "\n",
    "Veri büyük olduğunda genel bir önizleme sağlar.\n",
    "\n"
   ]
  },
  {
   "cell_type": "code",
   "execution_count": 9,
   "id": "09d2f3b4",
   "metadata": {},
   "outputs": [
    {
     "name": "stdout",
     "output_type": "stream",
     "text": [
      "\n",
      " Tablo Bilgisi:\n",
      "<class 'pandas.core.frame.DataFrame'>\n",
      "RangeIndex: 5 entries, 0 to 4\n",
      "Data columns (total 3 columns):\n",
      " #   Column  Non-Null Count  Dtype \n",
      "---  ------  --------------  ----- \n",
      " 0   İsim    5 non-null      object\n",
      " 1   Yaş     5 non-null      int64 \n",
      " 2   Not     5 non-null      int64 \n",
      "dtypes: int64(2), object(1)\n",
      "memory usage: 248.0+ bytes\n",
      "None\n"
     ]
    }
   ],
   "source": [
    "print(\"\\n Tablo Bilgisi:\")\n",
    "print(df.info())"
   ]
  },
  {
   "cell_type": "markdown",
   "id": "7077755a",
   "metadata": {},
   "source": [
    ".info():\n",
    "\n",
    "Kaç sütun olduğunu\n",
    "\n",
    "Hangi sütunda kaç veri olduğunu\n",
    "\n",
    "Veri türlerini (int, object vs.) gösterir"
   ]
  },
  {
   "cell_type": "code",
   "execution_count": 10,
   "id": "69118dac",
   "metadata": {},
   "outputs": [
    {
     "name": "stdout",
     "output_type": "stream",
     "text": [
      "\n",
      " İstatistiksel Özellikler:\n",
      "             Yaş        Not\n",
      "count   5.000000   5.000000\n",
      "mean   22.400000  86.600000\n",
      "std     1.140175   7.436397\n",
      "min    21.000000  75.000000\n",
      "25%    22.000000  85.000000\n",
      "50%    22.000000  88.000000\n",
      "75%    23.000000  90.000000\n",
      "max    24.000000  95.000000\n"
     ]
    }
   ],
   "source": [
    "print(\"\\n İstatistiksel Özellikler:\")\n",
    "print(df.describe())"
   ]
  },
  {
   "cell_type": "markdown",
   "id": "6dd10266",
   "metadata": {},
   "source": [
    ".describe():\n",
    "\n",
    "Sayısal sütunlar için temel istatistikleri verir:\n",
    "\n",
    "count (kaç değer var)\n",
    "\n",
    "mean (ortalama)\n",
    "\n",
    "std (standart sapma)\n",
    "\n",
    "min, max, %25–50–75 çeyrekler"
   ]
  },
  {
   "cell_type": "markdown",
   "id": "b5e0965e",
   "metadata": {},
   "source": [
    "## 2-Missing Data Analizi (Kayıp Veri)"
   ]
  },
  {
   "cell_type": "markdown",
   "id": "6cbb5fef",
   "metadata": {},
   "source": [
    "Veri setinizdeki bir gözlemde değişken için hiçbir veri değeri olmamasına denir.\n",
    "\n",
    "Kayıp verinin kaynağı çok farklı olabilir;\n",
    "\n",
    "Gerçekten kaybolmuş olabilir. Veri girilirken unutulmuş, gözden kaçmış olabilir.\n",
    "Bu gözlem için böyle bir değer olmayabilir.\n",
    "Değer gerçekten bilinmiyor veya tanımlanmıyor olabilir."
   ]
  },
  {
   "cell_type": "code",
   "execution_count": 11,
   "id": "e2a8b1f1",
   "metadata": {},
   "outputs": [
    {
     "data": {
      "text/html": [
       "<div>\n",
       "<style scoped>\n",
       "    .dataframe tbody tr th:only-of-type {\n",
       "        vertical-align: middle;\n",
       "    }\n",
       "\n",
       "    .dataframe tbody tr th {\n",
       "        vertical-align: top;\n",
       "    }\n",
       "\n",
       "    .dataframe thead th {\n",
       "        text-align: right;\n",
       "    }\n",
       "</style>\n",
       "<table border=\"1\" class=\"dataframe\">\n",
       "  <thead>\n",
       "    <tr style=\"text-align: right;\">\n",
       "      <th></th>\n",
       "      <th>İsim</th>\n",
       "      <th>Yaş</th>\n",
       "      <th>Ülke</th>\n",
       "      <th>Kalınan Gün</th>\n",
       "      <th>Otel Puanı</th>\n",
       "    </tr>\n",
       "  </thead>\n",
       "  <tbody>\n",
       "    <tr>\n",
       "      <th>0</th>\n",
       "      <td>Deniz</td>\n",
       "      <td>28.0</td>\n",
       "      <td>Türkiye</td>\n",
       "      <td>7.0</td>\n",
       "      <td>4.5</td>\n",
       "    </tr>\n",
       "    <tr>\n",
       "      <th>1</th>\n",
       "      <td>Mert</td>\n",
       "      <td>NaN</td>\n",
       "      <td>Almanya</td>\n",
       "      <td>10.0</td>\n",
       "      <td>5.0</td>\n",
       "    </tr>\n",
       "    <tr>\n",
       "      <th>2</th>\n",
       "      <td>Seda</td>\n",
       "      <td>35.0</td>\n",
       "      <td>İngiltere</td>\n",
       "      <td>NaN</td>\n",
       "      <td>4.0</td>\n",
       "    </tr>\n",
       "    <tr>\n",
       "      <th>3</th>\n",
       "      <td>Ali</td>\n",
       "      <td>30.0</td>\n",
       "      <td>NaN</td>\n",
       "      <td>5.0</td>\n",
       "      <td>NaN</td>\n",
       "    </tr>\n",
       "    <tr>\n",
       "      <th>4</th>\n",
       "      <td>Derya</td>\n",
       "      <td>NaN</td>\n",
       "      <td>Fransa</td>\n",
       "      <td>8.0</td>\n",
       "      <td>NaN</td>\n",
       "    </tr>\n",
       "  </tbody>\n",
       "</table>\n",
       "</div>"
      ],
      "text/plain": [
       "    İsim   Yaş       Ülke  Kalınan Gün  Otel Puanı\n",
       "0  Deniz  28.0    Türkiye          7.0         4.5\n",
       "1   Mert   NaN    Almanya         10.0         5.0\n",
       "2   Seda  35.0  İngiltere          NaN         4.0\n",
       "3    Ali  30.0        NaN          5.0         NaN\n",
       "4  Derya   NaN     Fransa          8.0         NaN"
      ]
     },
     "execution_count": 11,
     "metadata": {},
     "output_type": "execute_result"
    }
   ],
   "source": [
    "import pandas as pd\n",
    "import numpy as np\n",
    "\n",
    "veri = {\n",
    "    \"İsim\": [\"Deniz\", \"Mert\", \"Seda\", \"Ali\", \"Derya\"],\n",
    "    \"Yaş\": [28, np.nan, 35, 30, np.nan],\n",
    "    \"Ülke\": [\"Türkiye\", \"Almanya\", \"İngiltere\", np.nan, \"Fransa\"],\n",
    "    \"Kalınan Gün\": [7, 10, np.nan, 5, 8],\n",
    "    \"Otel Puanı\": [4.5, 5.0, 4.0, np.nan, np.nan]\n",
    "}\n",
    "\n",
    "df = pd.DataFrame(veri)\n",
    "df\n"
   ]
  },
  {
   "cell_type": "code",
   "execution_count": 12,
   "id": "3da263bc",
   "metadata": {},
   "outputs": [
    {
     "name": "stdout",
     "output_type": "stream",
     "text": [
      "NaN (eksik) değerlerin bulunduğu hücreler:\n",
      "    İsim    Yaş   Ülke  Kalınan Gün  Otel Puanı\n",
      "0  False  False  False        False       False\n",
      "1  False   True  False        False       False\n",
      "2  False  False  False         True       False\n",
      "3  False  False   True        False        True\n",
      "4  False   True  False        False        True\n",
      "\n",
      "Sütun bazında eksik değer sayısı:\n",
      "İsim           0\n",
      "Yaş            2\n",
      "Ülke           1\n",
      "Kalınan Gün    1\n",
      "Otel Puanı     2\n",
      "dtype: int64\n"
     ]
    }
   ],
   "source": [
    "print(\"NaN (eksik) değerlerin bulunduğu hücreler:\")\n",
    "print(df.isnull())\n",
    "\n",
    "print(\"\\nSütun bazında eksik değer sayısı:\")\n",
    "print(df.isnull().sum())\n"
   ]
  },
  {
   "cell_type": "markdown",
   "id": "59f00189",
   "metadata": {},
   "source": [
    "Bu dört satırda eksik veriler (NaN) belirli kurallara göre dolduruluyor\n",
    "\n"
   ]
  },
  {
   "cell_type": "code",
   "execution_count": 14,
   "id": "6a613f30",
   "metadata": {},
   "outputs": [
    {
     "name": "stdout",
     "output_type": "stream",
     "text": [
      "Temizlenmiş veri:\n",
      "    İsim   Yaş        Ülke  Kalınan Gün  Otel Puanı\n",
      "0  Deniz  28.0     Türkiye          7.0         4.5\n",
      "1   Mert  31.0     Almanya         10.0         5.0\n",
      "2   Seda  35.0   İngiltere          7.5         4.0\n",
      "3    Ali  30.0  Bilinmiyor          5.0         4.5\n",
      "4  Derya  31.0      Fransa          8.0         4.5\n"
     ]
    }
   ],
   "source": [
    "df[\"Yaş\"] = df[\"Yaş\"].fillna(df[\"Yaş\"].mean())\n",
    "df[\"Kalınan Gün\"] = df[\"Kalınan Gün\"].fillna(df[\"Kalınan Gün\"].mean())\n",
    "df[\"Otel Puanı\"] = df[\"Otel Puanı\"].fillna(df[\"Otel Puanı\"].mean())\n",
    "df[\"Ülke\"] = df[\"Ülke\"].fillna(\"Bilinmiyor\")\n",
    "print(\"Temizlenmiş veri:\")\n",
    "print(df)\n",
    "\n"
   ]
  },
  {
   "cell_type": "markdown",
   "id": "58df090f",
   "metadata": {},
   "source": [
    "## 3-Histogram Oluşturma"
   ]
  },
  {
   "cell_type": "markdown",
   "id": "2fb997a0",
   "metadata": {},
   "source": [
    "Histogram, sayısal verilerin dağılımını görselleştirir (örneğin: kaç kişi kaç yaşında, kaç gün kalmış vs.)."
   ]
  },
  {
   "cell_type": "code",
   "execution_count": 15,
   "id": "74822334",
   "metadata": {},
   "outputs": [
    {
     "data": {
      "image/png": "[encoded data removed]",
      "text/plain": [
       "<Figure size 640x480 with 1 Axes>"
      ]
     },
     "metadata": {},
     "output_type": "display_data"
    }
   ],
   "source": [
    "import matplotlib.pyplot as plt\n",
    "\n",
    "# Yaşların dağılımı\n",
    "plt.hist(df[\"Yaş\"], bins=5, edgecolor='black')\n",
    "plt.title(\"Tatilcilerin Yaş Dağılımı\")\n",
    "plt.xlabel(\"Yaş\")\n",
    "plt.ylabel(\"Kişi Sayısı\")\n",
    "plt.grid(True)\n",
    "plt.show()\n"
   ]
  }
 ],
 "metadata": {
  "kernelspec": {
   "display_name": "Python 3",
   "language": "python",
   "name": "python3"
  },
  "language_info": {
   "codemirror_mode": {
    "name": "ipython",
    "version": 3
   },
   "file_extension": ".py",
   "mimetype": "text/x-python",
   "name": "python",
   "nbconvert_exporter": "python",
   "pygments_lexer": "ipython3",
   "version": "3.10.0"
  }
 },
 "nbformat": 4,
 "nbformat_minor": 5
}
