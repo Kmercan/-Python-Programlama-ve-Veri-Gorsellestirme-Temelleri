{
 "cells": [
  {
   "cell_type": "markdown",
   "id": "346d5895",
   "metadata": {},
   "source": [
    "# Python Temel Yapıları"
   ]
  },
  {
   "cell_type": "markdown",
   "id": "b58fd371",
   "metadata": {},
   "source": [
    "## 1-Liste Kullanımı\n",
    "Listeler, birden çok öğeyi tek bir değişkende saklamak için kullanılır.\n",
    "Listeler köşeli parantezler kullanılarak oluşturulur"
   ]
  },
  {
   "cell_type": "code",
   "execution_count": null,
   "id": "3f2a4afa",
   "metadata": {},
   "outputs": [
    {
     "name": "stdout",
     "output_type": "stream",
     "text": [
      "Fizik Notları:45 \n",
      "Fizik Notları:78 \n",
      "Fizik Notları:90 \n",
      "Fizik Notları:12 \n",
      "Fizik Notları:46 \n"
     ]
    }
   ],
   "source": [
    "fizik_notlari=[45, 78, 90, 12, 46]\n",
    "biyoloji_notlari=[86, 54, 24, 100, 60]\n",
    "\n",
    "for puan in fizik_notlari:\n",
    "    print(f\"Fizik Notları:{puan} \")"
   ]
  },
  {
   "cell_type": "markdown",
   "id": "6ed92dc4",
   "metadata": {},
   "source": [
    "## 2-Sözlük (dictionary) Yapısı\n",
    "Sözlükler, veri değerlerini anahtar:değer çiftlerinde depolamak için kullanılır.\n",
    "Sözlük, sıralı*, değiştirilebilir ve yinelemelere izin vermez."
   ]
  },
  {
   "cell_type": "code",
   "execution_count": null,
   "id": "1b56a624",
   "metadata": {},
   "outputs": [
    {
     "name": "stdout",
     "output_type": "stream",
     "text": [
      "Ali adlı öğrencinin notu: 85\n",
      "Ayşe adlı öğrencinin notu: 92\n",
      "Mehmet adlı öğrencinin notu: 48\n"
     ]
    }
   ],
   "source": [
    "ogrenciler = {\"Ali\": 85, \"Ayşe\": 92, \"Mehmet\": 48}\n",
    "\n",
    "for isim, puan in ogrenciler.items():\n",
    "    print(f\"{isim} adlı öğrencinin notu: {puan}\")"
   ]
  },
  {
   "cell_type": "markdown",
   "id": "a76d984b",
   "metadata": {},
   "source": [
    "## 3-for - if Kullanımı\n",
    "Bir for döngüsü (bir liste, bir demet, bir sözlük, bir küme veya bir string) üzerinde yineleme yapmak\n",
    "için kullanılır."
   ]
  },
  {
   "cell_type": "code",
   "execution_count": null,
   "id": "b9132098",
   "metadata": {},
   "outputs": [
    {
     "name": "stdout",
     "output_type": "stream",
     "text": [
      "Ali: Kaldı (45)\n",
      "Ayşe: Geçti (77)\n",
      "Mehmet: Kaldı (30)\n",
      "Zeynep: Geçti (88)\n"
     ]
    }
   ],
   "source": [
    "ogrenci_listesi = {\n",
    "    \"Ali\": 45,\n",
    "    \"Ayşe\": 77,\n",
    "    \"Mehmet\": 30,\n",
    "    \"Zeynep\": 88\n",
    "}\n",
    "\n",
    "for isim, puan in ogrenci_listesi.items():\n",
    "    if puan >= 50:\n",
    "        print(f\"{isim}: Geçti ({puan})\")\n",
    "    else:\n",
    "        print(f\"{isim}: Kaldı ({puan})\")"
   ]
  },
  {
   "cell_type": "markdown",
   "id": "17186e47",
   "metadata": {},
   "source": [
    "## 4-Fonksiyon\n",
    "Python'da def anahtar sözcüğü kullanılarak bir fonksiyon tanımlanır.\n",
    "Bir fonksiyonu çağırmak için fonksiyon adı parantezle birlikte kullanılır."
   ]
  },
  {
   "cell_type": "code",
   "execution_count": 15,
   "id": "b795a1ad",
   "metadata": {},
   "outputs": [
    {
     "name": "stdout",
     "output_type": "stream",
     "text": [
      "Mercan 22 yaşındandır\n"
     ]
    }
   ],
   "source": [
    "def yas_hesaplama(isim,dogum_yili):\n",
    "    guncel_yil = 2025\n",
    "    yas = guncel_yil - dogum_yili\n",
    "    print(f\"{isim} {yas} yaşındandır\")\n",
    "\n",
    "yas_hesaplama(\"Mercan\",2003)\n"
   ]
  },
  {
   "cell_type": "markdown",
   "id": "e0de7854",
   "metadata": {},
   "source": [
    "## 5-Class Yapısı"
   ]
  },
  {
   "cell_type": "code",
   "execution_count": 21,
   "id": "50190de5",
   "metadata": {},
   "outputs": [
    {
     "name": "stdout",
     "output_type": "stream",
     "text": [
      "Adı:Melis Okul Numarası:221220055\n",
      "Bursunuz devam edecek\n"
     ]
    }
   ],
   "source": [
    "class Ogrenci:\n",
    "    def __init__(self, isim, okul_numarasi , genel_ortalama):\n",
    "        self.isim = isim\n",
    "        self.okul_numarasi = okul_numarasi\n",
    "        self.genel_ortalama = genel_ortalama\n",
    "    \n",
    "    def ogrenci_bilgileri(self):\n",
    "        print(f\"Adı:{self.isim} Okul Numarası:{self.okul_numarasi}\")\n",
    "\n",
    "    def basari_durumu(self):\n",
    "        if(self.genel_ortalama > 2.50):\n",
    "            print(f\"Bursunuz devam edecek\")\n",
    "        else:\n",
    "            print(f\"Bursunuz kesilecek\")\n",
    "\n",
    "ogrenci1 = Ogrenci(\"Melis\",221220055,3.14)\n",
    "ogrenci1.ogrenci_bilgileri()\n",
    "ogrenci1.basari_durumu()"
   ]
  },
  {
   "cell_type": "markdown",
   "id": "34c43e8c",
   "metadata": {},
   "source": [
    "## 6-Try-except"
   ]
  },
  {
   "cell_type": "code",
   "execution_count": 24,
   "id": "af427878",
   "metadata": {},
   "outputs": [
    {
     "name": "stdout",
     "output_type": "stream",
     "text": [
      "Geçerli doğum yılı: 2000\n"
     ]
    }
   ],
   "source": [
    "while True:\n",
    "    try:\n",
    "        dogum_yili = int(input(\"Doğum yılınızı girin: \"))\n",
    "        \n",
    "        if 1900 <= dogum_yili <= 2025:\n",
    "            print(f\"Geçerli doğum yılı: {dogum_yili}\")\n",
    "            break\n",
    "        else:\n",
    "            print(\"Hata: Yıl 1900 ile 2025 arasında olmalı.\")\n",
    "\n",
    "    except ValueError:\n",
    "        print(\"Hata: Lütfen geçerli bir sayı girin.\")\n",
    "\n"
   ]
  }
 ],
 "metadata": {
  "kernelspec": {
   "display_name": "Python 3",
   "language": "python",
   "name": "python3"
  },
  "language_info": {
   "codemirror_mode": {
    "name": "ipython",
    "version": 3
   },
   "file_extension": ".py",
   "mimetype": "text/x-python",
   "name": "python",
   "nbconvert_exporter": "python",
   "pygments_lexer": "ipython3",
   "version": "3.10.0"
  }
 },
 "nbformat": 4,
 "nbformat_minor": 5
}
