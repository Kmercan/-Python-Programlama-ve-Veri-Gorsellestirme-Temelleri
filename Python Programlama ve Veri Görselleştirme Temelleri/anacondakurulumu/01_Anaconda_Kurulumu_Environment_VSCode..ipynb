{
 "cells": [
  {
   "cell_type": "markdown",
   "id": "7189bccb",
   "metadata": {},
   "source": [
    "# 1. Anaconda Kurulumu\n",
    "\n",
    "Anaconda, Python ve veri bilimi kütüphanelerini kolayca yönetmek için kullanılan açık kaynaklı bir dağıtımdır. Bu projede kullanılan Anaconda dağıtımı aşağıdaki bağlantıdan indirilmiştir:\n",
    "\n",
    "🔗 [Anaconda Download (Windows)](https://www.anaconda.com/download)\n",
    "\n",
    "Kurulum sırasında `Just Me` seçeneği ile kurulmuş ve `Add Anaconda to PATH` seçeneği işaretlenmeden ilerlenmiştir."
   ]
  },
  {
   "cell_type": "markdown",
   "id": "51fe11d3",
   "metadata": {},
   "source": [
    "# Anaconda Yüklü mü?\n",
    "\n",
    "Kurulumu tamamladıktan sonra, `conda --version` komutu çalıştırılmış ve aşağıdaki gibi Anaconda'nın başarıyla yüklendiği görülmüştür:\n",
    "\n",
    "![Conda Versiyonu](anacondaversion.png)"
   ]
  },
  {
   "cell_type": "markdown",
   "id": "55deb290",
   "metadata": {},
   "source": [
    "# Ortam Oluşturma – `conda create`\n",
    "\n",
    "Aşağıda, `conda create -n goruntu python=3.10` komutu çalıştırıldığında ortamın başarıyla oluşturulmasına ait terminal çıktısı görülmektedir:\n",
    "\n",
    "![Ortam Oluşturma](condacrate.png)"
   ]
  },
  {
   "cell_type": "markdown",
   "id": "469a35de",
   "metadata": {},
   "source": [
    "# Ortamı Aktif Etme – `conda activate goruntu`\n",
    "\n",
    "Aşağıdaki terminal çıktısında, oluşturulan `goruntu` ortamı başarıyla aktif edilmiştir.  \n",
    "Komut satırının başında `(goruntu)` ibaresi yer alarak ortamın etkin olduğu gösterilmektedir.\n",
    "\n",
    "![Ortam Aktif](goruntuaktif.png)"
   ]
  },
  {
   "cell_type": "markdown",
   "id": "f47a7bfa",
   "metadata": {},
   "source": [
    "#  VS Code'da Ortam (Kernel) Seçimi\n",
    "\n",
    "Jupyter Notebook dosyasının doğru ortamda çalışabilmesi için, VS Code içerisinde Python kernel seçimi yapılmalıdır.\n",
    "\n",
    "Aşağıdaki ekran görüntüsünde, `goruntu (Python 3.10.18)` adlı Anaconda ortamı başarıyla seçilmiştir.  \n",
    "Bu ortamda daha önce yüklenen tüm kütüphaneler (NumPy, Pandas, Matplotlib, vb.) kullanılabilir hale gelmiştir.\n",
    "\n",
    "![Kernel Seçimi](envirommentsecimi.png)"
   ]
  },
  {
   "cell_type": "markdown",
   "id": "ef106081",
   "metadata": {},
   "source": [
    "# Jupyter Notebook Ortamı Doğrulama\n",
    "\n",
    "Aşağıdaki görüntüde, VS Code üzerinde `.ipynb` dosyasının açık olduğu ve sağ üstte `goruntu (Python 3.10.18)` ortamının aktif olarak seçili olduğu görülmektedir.\n",
    "\n",
    "Bu durum, ortamın başarıyla entegre edildiğini ve Jupyter kernel'in doğru ortamı kullandığını göstermektedir.\n",
    "\n",
    "![Notebook Ortamı](vskoduyum.png)"
   ]
  }
 ],
 "metadata": {
  "language_info": {
   "name": "python"
  }
 },
 "nbformat": 4,
 "nbformat_minor": 5
}
