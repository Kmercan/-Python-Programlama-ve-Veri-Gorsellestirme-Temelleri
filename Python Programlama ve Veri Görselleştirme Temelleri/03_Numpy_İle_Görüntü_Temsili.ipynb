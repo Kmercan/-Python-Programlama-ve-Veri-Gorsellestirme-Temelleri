{
 "cells": [
  {
   "cell_type": "markdown",
   "id": "7488f1b0",
   "metadata": {},
   "source": [
    "# NumPy ile 2D-3D matris üzerinden görüntü temsilini "
   ]
  },
  {
   "cell_type": "markdown",
   "id": "55788675",
   "metadata": {},
   "source": [
    " NumPy kütüphanesi, bu görüntüleri işlemek ve analiz etmek için kullanılır."
   ]
  },
  {
   "cell_type": "code",
   "execution_count": 6,
   "id": "bffaa179",
   "metadata": {},
   "outputs": [],
   "source": [
    "import numpy as np "
   ]
  },
  {
   "cell_type": "markdown",
   "id": "68433147",
   "metadata": {},
   "source": [
    "ndim -> boyut sayısı\n",
    "\n",
    "shape -> boyut bilgisi\n",
    "\n",
    "size -> eleman sayısı\n",
    "\n",
    "dtype -> array veri tipi"
   ]
  },
  {
   "cell_type": "markdown",
   "id": "7b718148",
   "metadata": {},
   "source": [
    " ## 2D Matris (Gri Seviye Görüntü)"
   ]
  },
  {
   "cell_type": "markdown",
   "id": "c8f520e4",
   "metadata": {},
   "source": [
    "Sadece tek kanal içerir (ışık yoğunluğu)\n",
    "\n",
    "Her bir sayı, 0 (siyah) ile 255 (beyaz) arasında bir piksel değerini temsil eder\n",
    "\n",
    "Satır ve sütunlardan oluşan bir düzlemdeki bir diziye karşılık gelir.\n",
    "\n",
    "NumPy'de 2 boyutlu array’lerle ifade edilir"
   ]
  },
  {
   "cell_type": "code",
   "execution_count": 8,
   "id": "574a32c4",
   "metadata": {},
   "outputs": [
    {
     "data": {
      "text/plain": [
       "array([[  0, 100, 200],\n",
       "       [ 50, 150, 255]])"
      ]
     },
     "execution_count": 8,
     "metadata": {},
     "output_type": "execute_result"
    }
   ],
   "source": [
    "np.array([\n",
    "    [  0, 100, 200],\n",
    "    [ 50, 150, 255]\n",
    "])"
   ]
  },
  {
   "cell_type": "markdown",
   "id": "6f05cb16",
   "metadata": {},
   "source": [
    "shape → (2, 3)\n",
    "\n",
    "Bu: 2 satır, 3 sütundan oluşan bir gri tonlamalı görüntüdür"
   ]
  },
  {
   "cell_type": "markdown",
   "id": "99e7230b",
   "metadata": {},
   "source": [
    "np.ones() fonksiyonu, NumPy kütüphanesinde tüm elemanları 1 olan bir dizi (array) oluşturmak için kullanılır."
   ]
  },
  {
   "cell_type": "code",
   "execution_count": 9,
   "id": "fbcc79fe",
   "metadata": {},
   "outputs": [
    {
     "name": "stdout",
     "output_type": "stream",
     "text": [
      "[[1. 1. 1. 1. 1.]\n",
      " [1. 1. 1. 1. 1.]]\n",
      "2\n",
      "(2, 5)\n",
      "10\n",
      "float64\n"
     ]
    }
   ],
   "source": [
    "c = np.ones((2, 5))\n",
    "print(c)\n",
    "print(c.ndim)\n",
    "print(c.shape)\n",
    "print(c.size)\n",
    "print(c.dtype)"
   ]
  },
  {
   "cell_type": "markdown",
   "id": "320d62e4",
   "metadata": {},
   "source": [
    "c adında bir NumPy 2D (iki boyutlu) dizi oluşturulur\n",
    "\n",
    "Bu dizi 2 satır ve 5 sütun içerir\n",
    "\n",
    "Tüm elemanları 1.0 (float) değerindedir\n",
    "\n",
    "Burada 2 boyut olduğu için çıktı 2 olur\n",
    "\n",
    "(2, 5) yani 2 satır, 5 sütun\n",
    "\n",
    "2 satır × 5 sütun = 10 eleman\n",
    "\n",
    "Varsayılan olarak float64 (ondalıklı sayılar)"
   ]
  },
  {
   "cell_type": "markdown",
   "id": "a54dfd0b",
   "metadata": {},
   "source": [
    "## 2D Görüntü Temsili (Siyah-Beyaz)\n"
   ]
  },
  {
   "cell_type": "code",
   "execution_count": 13,
   "id": "d822ceaf",
   "metadata": {},
   "outputs": [
    {
     "data": {
      "image/png": "[encoded data removed]",
      "text/plain": [
       "<Figure size 640x480 with 2 Axes>"
      ]
     },
     "metadata": {},
     "output_type": "display_data"
    }
   ],
   "source": [
    "import numpy as np\n",
    "import matplotlib.pyplot as plt\n",
    "\n",
    "gri_gorsel = np.array([\n",
    "    [  0, 128, 255],\n",
    "    [ 64, 200, 100]\n",
    "])\n",
    "\n",
    "\n",
    "plt.imshow(gri_gorsel, cmap=\"gray\") \n",
    "plt.title(\"2D Gri Seviye Görüntü\")\n",
    "plt.colorbar(label=\"Piksel Değeri\")  \n",
    "plt.show()\n"
   ]
  },
  {
   "cell_type": "markdown",
   "id": "9129f1d8",
   "metadata": {},
   "source": [
    "2 satır 3 sütunluk bir gri seviye görüntü\n",
    "\n",
    "0 = siyah, 255 = beyaz, arası = gri tonlar"
   ]
  },
  {
   "cell_type": "markdown",
   "id": "a9889274",
   "metadata": {},
   "source": [
    "## 3D NumPy Dizileri (3 Boyutlu Matris)"
   ]
  },
  {
   "cell_type": "markdown",
   "id": "337430d1",
   "metadata": {},
   "source": [
    " Bir dizi içeren dizilerden oluşan bir yapıya karşılık gelir.\n",
    "\n",
    " Örnek: Birçok iki boyutlu diziden oluşan bir küp. (Veri hacmi veya görüntü gibi üç boyutlu yapıları temsil ederler. )"
   ]
  },
  {
   "cell_type": "code",
   "execution_count": 10,
   "id": "75839701",
   "metadata": {},
   "outputs": [
    {
     "name": "stdout",
     "output_type": "stream",
     "text": [
      "[[[1. 1. 1. 1.]\n",
      "  [1. 1. 1. 1.]\n",
      "  [1. 1. 1. 1.]]\n",
      "\n",
      " [[1. 1. 1. 1.]\n",
      "  [1. 1. 1. 1.]\n",
      "  [1. 1. 1. 1.]]]\n",
      "Boyut Sayısı (ndim): 3\n",
      "Şekli (shape): (2, 3, 4)\n",
      "Toplam Eleman Sayısı (size): 24\n",
      "Veri Tipi (dtype): float64\n"
     ]
    }
   ],
   "source": [
    "dizi_3d = np.ones((2, 3, 4))\n",
    "\n",
    "print(dizi_3d)\n",
    "print(\"Boyut Sayısı (ndim):\", dizi_3d.ndim)\n",
    "print(\"Şekli (shape):\", dizi_3d.shape)\n",
    "print(\"Toplam Eleman Sayısı (size):\", dizi_3d.size)\n",
    "print(\"Veri Tipi (dtype):\", dizi_3d.dtype)"
   ]
  },
  {
   "cell_type": "markdown",
   "id": "0e87acba",
   "metadata": {},
   "source": [
    "ndim → 3 (çünkü 3 boyut var)\n",
    "\n",
    "shape → (2, 3, 4) yani:\n",
    "\n",
    "2 katman\n",
    "\n",
    "Her katmanda 3 satır ve 4 sütun var\n",
    "\n",
    "size → 2×3×4 = 24 eleman"
   ]
  },
  {
   "cell_type": "markdown",
   "id": "d0ec58d9",
   "metadata": {},
   "source": [
    "## 3D Görüntü Temsili (Renkli - RGB)"
   ]
  },
  {
   "cell_type": "code",
   "execution_count": 14,
   "id": "e394807f",
   "metadata": {},
   "outputs": [
    {
     "data": {
      "image/png": "[encoded data removed]",
      "text/plain": [
       "<Figure size 640x480 with 1 Axes>"
      ]
     },
     "metadata": {},
     "output_type": "display_data"
    }
   ],
   "source": [
    "import numpy as np\n",
    "import matplotlib.pyplot as plt\n",
    "\n",
    "rgb_gorsel = np.random.randint(0, 256, (64, 64, 3), dtype=np.uint8)\n",
    "\n",
    "plt.imshow(rgb_gorsel)\n",
    "plt.title(\"3D RGB Görsel (Renkli)\")\n",
    "plt.axis(\"off\") \n",
    "plt.show()\n"
   ]
  },
  {
   "cell_type": "markdown",
   "id": "0e72d2d7",
   "metadata": {},
   "source": [
    "64x64 boyutlu renkli bir görsel\n",
    "\n",
    "Her piksel = [R, G, B] → 3 sayı içerir (Red, Green, Blue)\n",
    "\n",
    "Örn: [255, 0, 0] = kırmızı piksel\n"
   ]
  }
 ],
 "metadata": {
  "kernelspec": {
   "display_name": "Python 3",
   "language": "python",
   "name": "python3"
  },
  "language_info": {
   "codemirror_mode": {
    "name": "ipython",
    "version": 3
   },
   "file_extension": ".py",
   "mimetype": "text/x-python",
   "name": "python",
   "nbconvert_exporter": "python",
   "pygments_lexer": "ipython3",
   "version": "3.10.0"
  }
 },
 "nbformat": 4,
 "nbformat_minor": 5
}
